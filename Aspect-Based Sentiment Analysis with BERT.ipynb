{
  "nbformat": 4,
  "nbformat_minor": 0,
  "metadata": {
    "colab": {
      "name": "Sentiment Analysis.ipynb",
      "provenance": [],
      "collapsed_sections": [],
      "machine_shape": "hm",
      "authorship_tag": "ABX9TyNHqvIsyk18dkDavZpS1LJt",
      "include_colab_link": true
    },
    "kernelspec": {
      "name": "python3",
      "display_name": "Python 3"
    },
    "language_info": {
      "name": "python"
    },
    "accelerator": "GPU"
  },
  "cells": [
    {
      "cell_type": "markdown",
      "metadata": {
        "id": "view-in-github",
        "colab_type": "text"
      },
      "source": [
        "<a href=\"https://colab.research.google.com/github/Shatokua/sent_analysis/blob/main/Aspect-Based%20Sentiment%20Analysis%20with%20BERT.ipynb\" target=\"_parent\"><img src=\"https://colab.research.google.com/assets/colab-badge.svg\" alt=\"Open In Colab\"/></a>"
      ]
    },
    {
      "cell_type": "code",
      "metadata": {
        "id": "ZK7JMYc6ac5f",
        "colab": {
          "base_uri": "https://localhost:8080/"
        },
        "outputId": "8b40f1d6-7db8-421a-8670-1a87bca1f27e"
      },
      "source": [
        "gpu_info = !nvidia-smi\n",
        "gpu_info = '\\n'.join(gpu_info)\n",
        "if gpu_info.find('failed') >= 0:\n",
        "  print('Not connected to a GPU')\n",
        "else:\n",
        "  print(gpu_info)"
      ],
      "execution_count": 1,
      "outputs": [
        {
          "output_type": "stream",
          "name": "stdout",
          "text": [
            "Thu Sep 30 07:17:35 2021       \n",
            "+-----------------------------------------------------------------------------+\n",
            "| NVIDIA-SMI 470.63.01    Driver Version: 460.32.03    CUDA Version: 11.2     |\n",
            "|-------------------------------+----------------------+----------------------+\n",
            "| GPU  Name        Persistence-M| Bus-Id        Disp.A | Volatile Uncorr. ECC |\n",
            "| Fan  Temp  Perf  Pwr:Usage/Cap|         Memory-Usage | GPU-Util  Compute M. |\n",
            "|                               |                      |               MIG M. |\n",
            "|===============================+======================+======================|\n",
            "|   0  Tesla P100-PCIE...  Off  | 00000000:00:04.0 Off |                    0 |\n",
            "| N/A   37C    P0    25W / 250W |      0MiB / 16280MiB |      0%      Default |\n",
            "|                               |                      |                  N/A |\n",
            "+-------------------------------+----------------------+----------------------+\n",
            "                                                                               \n",
            "+-----------------------------------------------------------------------------+\n",
            "| Processes:                                                                  |\n",
            "|  GPU   GI   CI        PID   Type   Process name                  GPU Memory |\n",
            "|        ID   ID                                                   Usage      |\n",
            "|=============================================================================|\n",
            "|  No running processes found                                                 |\n",
            "+-----------------------------------------------------------------------------+\n"
          ]
        }
      ]
    },
    {
      "cell_type": "markdown",
      "metadata": {
        "id": "8mWCmZcM_KRi"
      },
      "source": [
        "# Аспектный анализ тональности"
      ]
    },
    {
      "cell_type": "markdown",
      "metadata": {
        "id": "_iOUJmfS_auK"
      },
      "source": [
        "Конечной целью исследования является отладка модели для определения тональности текста по отношению к выбранному объекту текста, например, к упомянутой в тексте персоне, организации и т.д. \n",
        "\n",
        "Такой анализ является более точным, чем стандартный анализ тональности, и представляет больший интерес для конечных пользователей, поскольку дает оценку отношения к конкретному объекту, а не ко всему тексту."
      ]
    },
    {
      "cell_type": "markdown",
      "metadata": {
        "id": "IK0Q-H5pAnfX"
      },
      "source": [
        "## Подготовка окружения"
      ]
    },
    {
      "cell_type": "code",
      "metadata": {
        "id": "qTTzDjapgr-p"
      },
      "source": [
        "%%capture\n",
        "#@title Установка окружения\n",
        "\n",
        "!pip install -q sklearn==0.22.2.post1\n",
        "!pip install mendelai-brat-parser==0.0.4\n",
        "!pip install smart_open==5.1.0\n",
        "!pip install tensorflow-text==2.5.0\n",
        "!pip install bert-for-tf2\n",
        "!pip install -q tf-models-official"
      ],
      "execution_count": 2,
      "outputs": []
    },
    {
      "cell_type": "code",
      "metadata": {
        "id": "YWVHhTq6gxJD"
      },
      "source": [
        "%%capture\n",
        "#@title Импорт библиотек\n",
        "\n",
        "import numpy as np\n",
        "import pandas as pd\n",
        "import os\n",
        "\n",
        "from shutil import copyfile\n",
        "from brat_parser import get_entities_relations_attributes_groups\n",
        "\n",
        "from sklearn.model_selection import train_test_split\n",
        "\n",
        "import tensorflow as tf\n",
        "import tensorflow_hub as hub\n",
        "import tensorflow_text as text  # для загрузки universal-sentence-encoder-cmlm/multilingual-preprocess\n",
        "from tensorflow.keras import layers\n",
        "from tensorflow.keras.layers.experimental import preprocessing\n",
        "\n",
        "import bert\n",
        "\n",
        "from official.nlp import optimization"
      ],
      "execution_count": 3,
      "outputs": []
    },
    {
      "cell_type": "code",
      "metadata": {
        "id": "C2ROOsxkHnF8"
      },
      "source": [
        "%%capture\n",
        "#@title Определение рабочих директорий с данными\n",
        "SOURCE_DIR1 = 'done/'\n",
        "SOURCE_DIR2 = 'done1/'\n",
        "BASE_DIR = 'train_test/'\n",
        "main_csv_file = 'sent_quotes_done.csv'"
      ],
      "execution_count": 4,
      "outputs": []
    },
    {
      "cell_type": "markdown",
      "metadata": {
        "id": "4MX2mnYvA8KV"
      },
      "source": [
        "## Изучение и подготовка данных"
      ]
    },
    {
      "cell_type": "markdown",
      "metadata": {
        "id": "GZDe_LwrBQGE"
      },
      "source": [
        "Данные представлены в виде текстовых файлов и файлов аннотаций в формате BRAT.\n",
        "Все файлы находятся в двух папках done и done1. Файлы внутри папок не разделены по классам. Если в одном файле упоминается несколько объектов, по отношению к которым определяется тональность, данные находятся в одном файле ann.\n",
        "\n",
        "Для работы в Tensorflow датасет может быть представлен в двух форматах:\n",
        "1) как структурированный файл (например, csv), где каждая колонка является либо признаком, либо меткой класса;\n",
        "2) набор файлов, распределенных по директориям-классам. \n",
        "\n",
        "Кроме того, в случаях, когда в тексте упоминаются несколько сущностей, необходимо создать отдельную копию текста для каждой из сущностей.\n",
        "\n",
        "Подготовим данные для работы с Tensorflow\n",
        "(**для последующей работы с Google Colab в дальнейшем будет использоваться сохраненный файл csv, исполнение следующих двух ячеек не требуется**)."
      ]
    },
    {
      "cell_type": "code",
      "metadata": {
        "id": "l-vixGELH5lN"
      },
      "source": [
        "%%capture\n",
        "#@title Функция для перевода данных в читаемый TensorFlow формат\n",
        "\n",
        "def files_to_df(source_dir, target_dir):\n",
        "    \"\"\"Собираем список файлов txt. \n",
        "    Идём по списку файлов, для каждого файла извлекаем текст сообщения (из txt), \n",
        "    текст объекта (ann), его индексы (ann), тональность (ann). \n",
        "    Раскладываем файлы на папки по классам, параллельно записываем в \n",
        "    dataframe pandas\"\"\"\n",
        "\n",
        "    if (target_dir[:-1] not in os.listdir()):\n",
        "      os.mkdir(target_dir)\n",
        "\n",
        "    file_names = [fn[:-4] for fn in os.listdir(source_dir) if fn[-3:]=='txt']\n",
        "    \n",
        "    text_to_process = []\n",
        "    \n",
        "    for fn in file_names:\n",
        "        txt_file_path = source_dir + fn +'.txt'\n",
        "        \n",
        "        with open(txt_file_path, encoding=\"utf8\") as f:\n",
        "            txt = f.read()\n",
        "        \n",
        "        ann_file_path = source_dir + fn +'.ann'\n",
        "        entities, relations, attributes, groups = get_entities_relations_attributes_groups(ann_file_path)\n",
        "        entities_keys = list(entities.keys())\n",
        "        \n",
        "        for key in entities_keys:\n",
        "            class_dir = entities[key].type\n",
        "            if (class_dir not in os.listdir(target_dir)):\n",
        "                os.mkdir(target_dir + class_dir)\n",
        "                \n",
        "            entity_id = entities[key].id\n",
        "            print(type(entities[key].span[0][0]))\n",
        "\n",
        "            text_to_process.append({'filename':fn+'_'+entity_id, 'text': txt, 'entity_id': entities[key].id, \n",
        "                                    'entity_text': entities[key].text, 'entity_span_start': entities[key].span[0][0],\n",
        "                                    'entity_span_end': entities[key].span[0][1], 'label': entities[key].type})\n",
        "            \n",
        "            txt_new_file_path = target_dir + class_dir + '/' + fn + '_' + entity_id +'.txt'\n",
        "            copyfile(txt_file_path, txt_new_file_path)\n",
        "            ent_new_file_path = target_dir + class_dir + '/' + fn + '_' + entity_id + '_entity' +'.txt'\n",
        "            with open(ent_new_file_path, mode ='w', encoding =\"utf8\") as f:\n",
        "              f.write(entities[key].text)\n",
        "    \n",
        "    df = pd.DataFrame.from_dict(text_to_process)\n",
        "    return df\n"
      ],
      "execution_count": 5,
      "outputs": []
    },
    {
      "cell_type": "code",
      "metadata": {
        "id": "-eIghZpYJ-OX"
      },
      "source": [
        "%%capture\n",
        "#@title Изменение структуры папок, перенос данных в csv\n",
        "\n",
        "#df1 = files_to_df(SOURCE_DIR1, BASE_DIR)\n",
        "#df2 = files_to_df(SOURCE_DIR2, BASE_DIR)\n",
        "#df = pd.concat([df1, df2])\n",
        "#df.to_csv(main_csv_file)"
      ],
      "execution_count": 6,
      "outputs": []
    },
    {
      "cell_type": "markdown",
      "metadata": {
        "id": "KcsmPtqlLaBY"
      },
      "source": [
        "Для работы в Google Colab требуется загрузка csv-файла."
      ]
    },
    {
      "cell_type": "code",
      "metadata": {
        "id": "PhMVz0OVgzPa"
      },
      "source": [
        "%%capture\n",
        "#@title Чтение файл csv\n",
        "\n",
        "csv_file = main_csv_file\n",
        "dataframe = pd.read_csv(csv_file)"
      ],
      "execution_count": 7,
      "outputs": []
    },
    {
      "cell_type": "markdown",
      "metadata": {
        "id": "ylGTDnSSOdb-"
      },
      "source": [
        "Изучим распределение датасета по классам"
      ]
    },
    {
      "cell_type": "code",
      "metadata": {
        "id": "BEgvHhZQ-cHF"
      },
      "source": [
        "%%capture\n",
        "#@title Распределение классов\n"
      ],
      "execution_count": 8,
      "outputs": []
    },
    {
      "cell_type": "code",
      "metadata": {
        "colab": {
          "base_uri": "https://localhost:8080/"
        },
        "id": "QjLWDdHN-tQV",
        "outputId": "b6100f6b-db65-4c0c-95f3-c361bd8c8556"
      },
      "source": [
        "print(dataframe.value_counts('label'))"
      ],
      "execution_count": 9,
      "outputs": [
        {
          "output_type": "stream",
          "name": "stdout",
          "text": [
            "label\n",
            "Neutral_all     29070\n",
            "Neutral         10354\n",
            "Negative         4836\n",
            "Positive         4657\n",
            "Negative_all     1782\n",
            "Positive_all      923\n",
            "Mixed             291\n",
            "Mixed_all          15\n",
            "dtype: int64\n"
          ]
        }
      ]
    },
    {
      "cell_type": "markdown",
      "metadata": {
        "id": "eOAsFHEAWdKk"
      },
      "source": [
        "Классы несбалансированы. Класс Mixed_all состоит всего из 15 экземпляров. Укрупним классы, объединив классы с постфиксом _all с одноименными без префикса. Удалим записи, относящиеся к классу Mixed (Mixed_all)\n",
        "Также приведем метки классов к числовым категориям"
      ]
    },
    {
      "cell_type": "code",
      "metadata": {
        "colab": {
          "base_uri": "https://localhost:8080/"
        },
        "id": "Dye9aNUGmPLY",
        "outputId": "b1fb781d-d690-4aeb-db71-5008bb71d53c"
      },
      "source": [
        "dataframe = dataframe[(dataframe['label']!='Mixed') & (dataframe['label']!='Mixed_all')]\n",
        "print(dataframe.value_counts('label'))"
      ],
      "execution_count": 10,
      "outputs": [
        {
          "output_type": "stream",
          "name": "stdout",
          "text": [
            "label\n",
            "Neutral_all     29070\n",
            "Neutral         10354\n",
            "Negative         4836\n",
            "Positive         4657\n",
            "Negative_all     1782\n",
            "Positive_all      923\n",
            "dtype: int64\n"
          ]
        }
      ]
    },
    {
      "cell_type": "code",
      "metadata": {
        "id": "aDrs20INhOwg"
      },
      "source": [
        "%%capture\n",
        "#@title Объединение классов, приведение меток классов к категориальному формату\n",
        "\n",
        "classes = {'Positive': 0, 'Positive_all': 0, \n",
        "           'Negative': 1, 'Negative_all': 1, \n",
        "           'Neutral': 2, 'Neutral_all': 2}\n",
        "dataframe['label'] = dataframe['label'].apply(lambda x: classes[x])"
      ],
      "execution_count": 11,
      "outputs": []
    },
    {
      "cell_type": "code",
      "metadata": {
        "colab": {
          "base_uri": "https://localhost:8080/"
        },
        "id": "-VT4GSRJndYD",
        "outputId": "cc420990-0083-4a81-c47f-778f1d5a81df"
      },
      "source": [
        "print(dataframe.value_counts('label'))"
      ],
      "execution_count": 12,
      "outputs": [
        {
          "output_type": "stream",
          "name": "stdout",
          "text": [
            "label\n",
            "2    39424\n",
            "1     6618\n",
            "0     5580\n",
            "dtype: int64\n"
          ]
        }
      ]
    },
    {
      "cell_type": "markdown",
      "metadata": {
        "id": "XSOCZz0PXfv7"
      },
      "source": [
        "Разделим датасет на набор данных для тренировки и для тестирования.\n",
        "В тренировочном датасете выделим набор для валидации"
      ]
    },
    {
      "cell_type": "code",
      "metadata": {
        "id": "sgvSFWCklqE5"
      },
      "source": [
        "%%capture\n",
        "#@title Разделение датасета на тренировочный и проверочный\n",
        "\n",
        "train, test = train_test_split(dataframe, test_size=0.2)\n",
        "train, val = train_test_split(train, test_size=0.2)\n"
      ],
      "execution_count": 13,
      "outputs": []
    },
    {
      "cell_type": "code",
      "metadata": {
        "colab": {
          "base_uri": "https://localhost:8080/"
        },
        "id": "HzmsqxAP-1EX",
        "outputId": "37234588-9adc-4846-c3e8-613a31312a17"
      },
      "source": [
        "print(len(train), 'train examples')\n",
        "print(len(val), 'validation examples')\n",
        "print(len(test), 'test examples')"
      ],
      "execution_count": 14,
      "outputs": [
        {
          "output_type": "stream",
          "name": "stdout",
          "text": [
            "33037 train examples\n",
            "8260 validation examples\n",
            "10325 test examples\n"
          ]
        }
      ]
    },
    {
      "cell_type": "markdown",
      "metadata": {
        "id": "bOIMMS-BX4S0"
      },
      "source": [
        "Поскольку классы не сбалансированы, проверим распределение по классам внутри тренировочного, тестового и валидационного датасетов"
      ]
    },
    {
      "cell_type": "code",
      "metadata": {
        "id": "0mkNVEu9YQ29"
      },
      "source": [
        "%%capture\n",
        "#@title Проверка распределения классов\n"
      ],
      "execution_count": 15,
      "outputs": []
    },
    {
      "cell_type": "code",
      "metadata": {
        "colab": {
          "base_uri": "https://localhost:8080/"
        },
        "id": "-uo2fQAH-6M9",
        "outputId": "849d6613-7719-4310-fa4e-397747cb20d7"
      },
      "source": [
        "print('Нормализованное распределение по классам в начальном датасете')\n",
        "print(dataframe.value_counts('label', normalize=True))\n",
        "\n",
        "print('Нормализованное распределение по классам в датасете train')\n",
        "print(train.value_counts('label', normalize=True))\n",
        "\n",
        "print('Нормализованное распределение по классам в датасете test')\n",
        "print(test.value_counts('label', normalize=True))\n",
        "\n",
        "print('Нормализованное распределение по классам в датасете val')\n",
        "print(val.value_counts('label', normalize=True))"
      ],
      "execution_count": 16,
      "outputs": [
        {
          "output_type": "stream",
          "name": "stdout",
          "text": [
            "Нормализованное распределение по классам в начальном датасете\n",
            "label\n",
            "2    0.763705\n",
            "1    0.128201\n",
            "0    0.108093\n",
            "dtype: float64\n",
            "Нормализованное распределение по классам в датасете train\n",
            "label\n",
            "2    0.764385\n",
            "1    0.128825\n",
            "0    0.106789\n",
            "dtype: float64\n",
            "Нормализованное распределение по классам в датасете test\n",
            "label\n",
            "2    0.761356\n",
            "1    0.129007\n",
            "0    0.109637\n",
            "dtype: float64\n",
            "Нормализованное распределение по классам в датасете val\n",
            "label\n",
            "2    0.763923\n",
            "1    0.124697\n",
            "0    0.111380\n",
            "dtype: float64\n"
          ]
        }
      ]
    },
    {
      "cell_type": "markdown",
      "metadata": {
        "id": "26Mw9DQ2duiP"
      },
      "source": [
        "Распределение классов одинаково во всех наборах. Выберем только колонки, которые нужны для работы модели."
      ]
    },
    {
      "cell_type": "code",
      "metadata": {
        "id": "g0ijMjmZFf0V"
      },
      "source": [
        "train = train[['text', 'entity_span_start', 'entity_span_end', 'label']]\n",
        "val = val[['text', 'entity_span_start', 'entity_span_end', 'label']]\n",
        "test = test[['text', 'entity_span_start', 'entity_span_end', 'label']]"
      ],
      "execution_count": 17,
      "outputs": []
    },
    {
      "cell_type": "markdown",
      "metadata": {
        "id": "3vfWXmEDKk4j"
      },
      "source": [
        "## Выбор модели"
      ]
    },
    {
      "cell_type": "markdown",
      "metadata": {
        "id": "RL8n0cV9aSW1"
      },
      "source": [
        "Для работы выбрана модель [LaBSE](https://tfhub.dev/google/LaBSE/2) (Language-agnostic BERT sentence embedding model) как одна из наиболее актуальных моделей, показывающих хорошие результаты для русского языка."
      ]
    },
    {
      "cell_type": "code",
      "metadata": {
        "id": "7BzZ9GJUKsuU"
      },
      "source": [
        "model_url = 'https://tfhub.dev/google/LaBSE/1'\n",
        "labse_layer = hub.KerasLayer(model_url, trainable=False, name=\"LaBSE\")"
      ],
      "execution_count": 18,
      "outputs": []
    },
    {
      "cell_type": "markdown",
      "metadata": {
        "id": "wBm2J6mvejtm"
      },
      "source": [
        "## Изменение препроцессора"
      ]
    },
    {
      "cell_type": "markdown",
      "metadata": {
        "id": "aRfr7LdrevJ7"
      },
      "source": [
        "Стандартный препроцессор получает на вход текст и выдает в качестве output словарь из трех тензоров:  \n",
        "- `input_word_ids`: id поданных на вход слов  \n",
        "- `input_mask`: маска из 1 и 0, где 1 находится на позициях значимых слов, 0 на позициях паддинга  \n",
        "- `input_type_ids`: маска из 0 и 1 для передачи дополнительной информации о токенах\n",
        "\n",
        "Нам необходимо изменить препроцессор таким образом, что в маске `input_type_ids` на позициях токенов интересующего нас объекта стояли 1, на всех остальных позициях - 0."
      ]
    },
    {
      "cell_type": "code",
      "metadata": {
        "id": "hYCQch-BfBtr"
      },
      "source": [
        "vocab_file = labse_layer.resolved_object.vocab_file.asset_path.numpy()\n",
        "do_lower_case = labse_layer.resolved_object.do_lower_case.numpy()\n",
        "tokenizer = bert.bert_tokenization.FullTokenizer(vocab_file, do_lower_case)\n",
        "\n",
        "def create_input(input_strings, entity_starts, entity_ends, tokenizer, max_seq_length):\n",
        "\n",
        "  input_ids_all, input_mask_all, segment_ids_all = [], [], []\n",
        "  for i in range (len(input_strings)):\n",
        "    input_string = input_strings[i]\n",
        "    entity_start = entity_starts[i]\n",
        "    entity_end = entity_ends[i]\n",
        "\n",
        "\n",
        "    #Токенизация строки до старта сущности\n",
        "    input_tokens_before_entity = [\"[CLS]\"] + tokenizer.tokenize(input_string[:entity_start])\n",
        "    input_ids_before_entity = tokenizer.convert_tokens_to_ids(input_tokens_before_entity)\n",
        "    before_entity_length = len(input_ids_before_entity)\n",
        "\n",
        "    #Токенизация сущности\n",
        "    input_tokens_entity = tokenizer.tokenize(input_string[entity_start:entity_end])\n",
        "    input_ids_entity = tokenizer.convert_tokens_to_ids(input_tokens_entity)\n",
        "    entity_length = len(input_ids_entity)\n",
        "\n",
        "    #Токенизация строки после окончания сущности\n",
        "    input_tokens_after_entity = tokenizer.tokenize(input_string[entity_end:])+[\"[SEP]\"]\n",
        "    input_ids_after_entity = tokenizer.convert_tokens_to_ids(input_tokens_after_entity)\n",
        "    after_entity_length = len(input_ids_after_entity)\n",
        "\n",
        "    #Создание общего массива input_id\n",
        "    input_ids = input_ids_before_entity + input_ids_entity + input_ids_after_entity\n",
        "    sequence_length = before_entity_length+entity_length+after_entity_length\n",
        "\n",
        "    #Массивы для маски и segment_id\n",
        "    input_mask = [1] * sequence_length + [0] * (max_seq_length - sequence_length)\n",
        "    segment_ids = [0] * before_entity_length + [1] * entity_length + [0] * after_entity_length\n",
        "\n",
        "    #Паддинг/обрезка\n",
        "    if len(input_ids) >= max_seq_length:\n",
        "      input_ids = input_ids[:max_seq_length]\n",
        "      segment_ids = segment_ids[:max_seq_length]\n",
        "      input_mask = input_mask[:max_seq_length]\n",
        "    else:\n",
        "      input_ids = input_ids + [0] * (max_seq_length - len(input_ids))\n",
        "      segment_ids = segment_ids + [0]*(max_seq_length - len(segment_ids))\n",
        "      input_mask = input_mask + [0]*(max_seq_length - len(segment_ids))\n",
        "\n",
        "    input_ids_all.append(input_ids)\n",
        "    input_mask_all.append(input_mask)\n",
        "    segment_ids_all.append(segment_ids)\n",
        "\n",
        "  return np.array(input_ids_all), np.array(input_mask_all), np.array(segment_ids_all)\n",
        "\n",
        "\n"
      ],
      "execution_count": 19,
      "outputs": []
    },
    {
      "cell_type": "markdown",
      "metadata": {
        "id": "R3tc82FsT-pN"
      },
      "source": [
        "## Построение модели\n"
      ]
    },
    {
      "cell_type": "code",
      "metadata": {
        "id": "SV6Bg11IcWrm"
      },
      "source": [
        "def get_model(model_url, max_seq_length):\n",
        "  \n",
        "\n",
        "  # input\n",
        "  input_word_ids = tf.keras.layers.Input(shape=(max_seq_length,), dtype=tf.int32,\n",
        "                                         name=\"input_word_ids\")\n",
        "  input_mask = tf.keras.layers.Input(shape=(max_seq_length,), dtype=tf.int32,\n",
        "                                     name=\"input_mask\")\n",
        "  segment_ids = tf.keras.layers.Input(shape=(max_seq_length,), dtype=tf.int32,\n",
        "                                      name=\"segment_ids\")\n",
        "\n",
        "  # LaBSE layer\n",
        "  labse_layer = hub.KerasLayer(model_url, trainable=True, name=\"LaBSE\")\n",
        "  pooled_output,  _ = labse_layer([input_word_ids, input_mask, segment_ids])\n",
        "\n",
        "  # нормализация эмбеддинга\n",
        "  pooled_output = tf.keras.layers.Lambda(\n",
        "      lambda x: tf.nn.l2_normalize(x, axis=1))(pooled_output)\n",
        "\n",
        "\n",
        "  cls_out = tf.keras.layers.Dropout(0.5)(pooled_output)\n",
        "  logits = tf.keras.layers.Dense(units=768, activation=\"tanh\")(cls_out)\n",
        "  cls_out = tf.keras.layers.Dropout(0.5)(pooled_output)\n",
        "  logits = tf.keras.layers.Dense(units=3, activation=\"softmax\")(logits)\n",
        "\n",
        "  # Define model.\n",
        "  return tf.keras.Model(\n",
        "        inputs=[input_word_ids, input_mask, segment_ids],\n",
        "        outputs=logits)\n",
        "\n",
        "\n",
        "labse_model = get_model(\n",
        "    model_url=\"https://tfhub.dev/google/LaBSE/1\", max_seq_length=128)"
      ],
      "execution_count": 20,
      "outputs": []
    },
    {
      "cell_type": "code",
      "metadata": {
        "colab": {
          "base_uri": "https://localhost:8080/"
        },
        "id": "8KN5q6xogNBR",
        "outputId": "793a0530-c722-4c2c-95fc-ccf6f8b3faa3"
      },
      "source": [
        "labse_model.summary()"
      ],
      "execution_count": 21,
      "outputs": [
        {
          "output_type": "stream",
          "name": "stdout",
          "text": [
            "Model: \"model\"\n",
            "__________________________________________________________________________________________________\n",
            "Layer (type)                    Output Shape         Param #     Connected to                     \n",
            "==================================================================================================\n",
            "input_word_ids (InputLayer)     [(None, 128)]        0                                            \n",
            "__________________________________________________________________________________________________\n",
            "input_mask (InputLayer)         [(None, 128)]        0                                            \n",
            "__________________________________________________________________________________________________\n",
            "segment_ids (InputLayer)        [(None, 128)]        0                                            \n",
            "__________________________________________________________________________________________________\n",
            "LaBSE (KerasLayer)              [(None, 768), (None, 470926849   input_word_ids[0][0]             \n",
            "                                                                 input_mask[0][0]                 \n",
            "                                                                 segment_ids[0][0]                \n",
            "__________________________________________________________________________________________________\n",
            "lambda (Lambda)                 (None, 768)          0           LaBSE[0][0]                      \n",
            "__________________________________________________________________________________________________\n",
            "dropout (Dropout)               (None, 768)          0           lambda[0][0]                     \n",
            "__________________________________________________________________________________________________\n",
            "dense (Dense)                   (None, 768)          590592      dropout[0][0]                    \n",
            "__________________________________________________________________________________________________\n",
            "dense_1 (Dense)                 (None, 3)            2307        dense[0][0]                      \n",
            "==================================================================================================\n",
            "Total params: 471,519,748\n",
            "Trainable params: 471,519,747\n",
            "Non-trainable params: 1\n",
            "__________________________________________________________________________________________________\n"
          ]
        }
      ]
    },
    {
      "cell_type": "code",
      "metadata": {
        "colab": {
          "base_uri": "https://localhost:8080/",
          "height": 564
        },
        "id": "b_3ZkpxV86em",
        "outputId": "86794cf1-1d7e-42ce-a897-be5eaa2a9105"
      },
      "source": [
        "tf.keras.utils.plot_model(labse_model)"
      ],
      "execution_count": 22,
      "outputs": [
        {
          "output_type": "execute_result",
          "data": {
            "image/png": "[encoded data removed]",
            "text/plain": [
              "<IPython.core.display.Image object>"
            ]
          },
          "metadata": {},
          "execution_count": 22
        }
      ]
    },
    {
      "cell_type": "markdown",
      "metadata": {
        "id": "02-ZyiYq8wHV"
      },
      "source": [
        "Проверим работу модели (выходные данные не несут смысла, поскольку модель не тренировалась)."
      ]
    },
    {
      "cell_type": "code",
      "metadata": {
        "id": "MOdIdlRQwnq8",
        "colab": {
          "base_uri": "https://localhost:8080/"
        },
        "outputId": "579a3861-cfea-4613-9931-89bb42fb433c"
      },
      "source": [
        "test_text = dataframe['text'].to_list()[:10]\n",
        "test_start = dataframe['entity_span_start'].to_list()[:10]\n",
        "test_end = dataframe['entity_span_end'].to_list()[:10]\n",
        "print(test_text)\n",
        "print(test_start)\n",
        "print(test_end)"
      ],
      "execution_count": 23,
      "outputs": [
        {
          "output_type": "stream",
          "name": "stdout",
          "text": [
            "['\"да, я допустил неточность, а посол Мюррей ссылается на слухи... но зато теперь мы накопали много РЕАЛЬНОЙ информации на Усманова', '\"да, я допустил неточность, а посол Мюррей ссылается на слухи... но зато теперь мы накопали много РЕАЛЬНОЙ информации на Усманова', '\"Тот персонаж, о котором вы упомянули [Навальный]..., это тот человек, кого они[американская администрация] хотели бы продвинуть в политическую сферу России и видеть в руководстве страны\", заметил Путин, подчеркнув, что США \"в этом смысле прокололись', '\"Тот персонаж, о котором вы упомянули [Навальный]..., это тот человек, кого они[американская администрация] хотели бы продвинуть в политическую сферу России и видеть в руководстве страны\", заметил Путин, подчеркнув, что США \"в этом смысле прокололись', '\"Хотелось бы знать, Владимир Владимирович, сколько еще на своем посту пробудет губернатор Дарькин, который весь этот беспредел контролирует от начала и до конца и, мягко говоря, набивает карманы?\" В ответ Путин пообещал учитывать сказанное \"в будущей работе', '\"Хотелось бы знать, Владимир Владимирович, сколько еще на своем посту пробудет губернатор Дарькин, который весь этот беспредел контролирует от начала и до конца и, мягко говоря, набивает карманы?\" В ответ Путин пообещал учитывать сказанное \"в будущей работе', '\"Хотелось бы знать, Владимир Владимирович, сколько еще на своем посту пробудет губернатор Дарькин, который весь этот беспредел контролирует от начала и до конца и, мягко говоря, набивает карманы?\" В ответ Путин пообещал учитывать сказанное \"в будущей работе', 'FEMEN обращает внимание на внедрение в Украине старых добрых тоталитарных методов контролируемой демократии. Один из ее инструментов - это, так называемые, цензурированные прямые эфиры с лидером нации. Достаточно вспомнить аналогичные эфиры с Путиным и Уго Чавесом. Женское движение FEMEN уверенны, что ни предварительная цензура вопроса, ни подсказки суфлера не сделают Януковича умнее, чем он есть', 'FEMEN обращает внимание на внедрение в Украине старых добрых тоталитарных методов контролируемой демократии. Один из ее инструментов - это, так называемые, цензурированные прямые эфиры с лидером нации. Достаточно вспомнить аналогичные эфиры с Путиным и Уго Чавесом. Женское движение FEMEN уверенны, что ни предварительная цензура вопроса, ни подсказки суфлера не сделают Януковича умнее, чем он есть', 'FEMEN обращает внимание на внедрение в Украине старых добрых тоталитарных методов контролируемой демократии. Один из ее инструментов - это, так называемые, цензурированные прямые эфиры с лидером нации. Достаточно вспомнить аналогичные эфиры с Путиным и Уго Чавесом. Женское движение FEMEN уверенны, что ни предварительная цензура вопроса, ни подсказки суфлера не сделают Януковича умнее, чем он есть']\n",
            "[36, 121, 197, 39, 205, 90, 20, 253, 243, 371]\n",
            "[42, 129, 202, 48, 210, 97, 41, 264, 250, 380]\n"
          ]
        }
      ]
    },
    {
      "cell_type": "code",
      "metadata": {
        "id": "GGbYw4VqMr34"
      },
      "source": [
        "inputs = create_input(test_text, test_start, test_end, tokenizer, 128)"
      ],
      "execution_count": 24,
      "outputs": []
    },
    {
      "cell_type": "code",
      "metadata": {
        "colab": {
          "base_uri": "https://localhost:8080/"
        },
        "id": "SwLc5RCJMuxW",
        "outputId": "a4a4a613-d414-4b48-dd45-1e7d40158b76"
      },
      "source": [
        "inputs"
      ],
      "execution_count": 25,
      "outputs": [
        {
          "output_type": "execute_result",
          "data": {
            "text/plain": [
              "(array([[   101,    107,  15018, ...,      0,      0,      0],\n",
              "        [   101,    107,  15018, ...,      0,      0,      0],\n",
              "        [   101,    107, 222823, ...,      0,      0,      0],\n",
              "        ...,\n",
              "        [   101, 416659,  26834, ...,      0,      0,      0],\n",
              "        [   101, 416659,  26834, ...,      0,      0,      0],\n",
              "        [   101, 416659,  26834, ...,      0,      0,      0]]),\n",
              " array([[1, 1, 1, ..., 0, 0, 0],\n",
              "        [1, 1, 1, ..., 0, 0, 0],\n",
              "        [1, 1, 1, ..., 0, 0, 0],\n",
              "        ...,\n",
              "        [1, 1, 1, ..., 0, 0, 0],\n",
              "        [1, 1, 1, ..., 0, 0, 0],\n",
              "        [1, 1, 1, ..., 0, 0, 0]]),\n",
              " array([[0, 0, 0, ..., 0, 0, 0],\n",
              "        [0, 0, 0, ..., 0, 0, 0],\n",
              "        [0, 0, 0, ..., 0, 0, 0],\n",
              "        ...,\n",
              "        [0, 0, 0, ..., 0, 0, 0],\n",
              "        [0, 0, 0, ..., 0, 0, 0],\n",
              "        [0, 0, 0, ..., 0, 0, 0]]))"
            ]
          },
          "metadata": {},
          "execution_count": 25
        }
      ]
    },
    {
      "cell_type": "code",
      "metadata": {
        "colab": {
          "base_uri": "https://localhost:8080/"
        },
        "id": "9ZwxeGhW4_LT",
        "outputId": "3f2c8912-b082-4d78-b023-b07fd32f1e7b"
      },
      "source": [
        "\n",
        "bert_raw_result = labse_model(inputs)\n",
        "print(test_text[5])\n",
        "print(bert_raw_result[5])"
      ],
      "execution_count": 26,
      "outputs": [
        {
          "output_type": "stream",
          "name": "stdout",
          "text": [
            "\"Хотелось бы знать, Владимир Владимирович, сколько еще на своем посту пробудет губернатор Дарькин, который весь этот беспредел контролирует от начала и до конца и, мягко говоря, набивает карманы?\" В ответ Путин пообещал учитывать сказанное \"в будущей работе\n",
            "tf.Tensor([0.32940322 0.3470077  0.32358912], shape=(3,), dtype=float32)\n"
          ]
        }
      ]
    },
    {
      "cell_type": "markdown",
      "metadata": {
        "id": "Ro1XIhtUwiOF"
      },
      "source": [
        "Модель выдает набор вероятностей, как и ожидалось.  \n",
        "Компилируем модель."
      ]
    },
    {
      "cell_type": "code",
      "metadata": {
        "id": "i9CnoKxA_HpZ"
      },
      "source": [
        "labse_model.compile(\n",
        "  optimizer=tf.keras.optimizers.Adam(1e-5),\n",
        "  loss='sparse_categorical_crossentropy',\n",
        "  metrics=['sparse_categorical_accuracy']\n",
        ")"
      ],
      "execution_count": 27,
      "outputs": []
    },
    {
      "cell_type": "markdown",
      "metadata": {
        "id": "wGqMdQW39qdP"
      },
      "source": [
        "## Тренировка модели"
      ]
    },
    {
      "cell_type": "code",
      "metadata": {
        "id": "bH21kVTpF_1l"
      },
      "source": [
        "# Создание датасета\n",
        "def df_to_dataset(dataframe, shuffle=True, batch_size=32):\n",
        "  dataframe = dataframe.copy()\n",
        "  labels = dataframe.pop('label')\n",
        "  prepocessed_inputs = create_input(dataframe['text'].to_list(), dataframe['entity_span_start'].to_list(), \n",
        "                                    dataframe['entity_span_end'].to_list(), tokenizer, 128)  \n",
        "  ds = tf.data.Dataset.from_tensor_slices((prepocessed_inputs, labels))\n",
        "  if shuffle:\n",
        "    ds = ds.shuffle(buffer_size=len(dataframe))\n",
        "  ds = ds.batch(batch_size)\n",
        "  ds = ds.prefetch(batch_size)\n",
        "  return ds"
      ],
      "execution_count": 28,
      "outputs": []
    },
    {
      "cell_type": "code",
      "metadata": {
        "id": "iZDkAnd9GZ4z"
      },
      "source": [
        "AUTOTUNE = tf.data.AUTOTUNE\n",
        "batch_size = 16\n",
        "seed = 42\n",
        "\n",
        "raw_train_ds = df_to_dataset(train, batch_size=batch_size)\n",
        "raw_val_ds = df_to_dataset(val, batch_size=batch_size)\n",
        "raw_test_ds = df_to_dataset(test, batch_size=batch_size)\n",
        "\n",
        "train_ds = raw_train_ds.cache().prefetch(buffer_size=AUTOTUNE)\n",
        "val_ds = raw_val_ds.cache().prefetch(buffer_size=AUTOTUNE)\n",
        "test_ds = raw_test_ds.cache().prefetch(buffer_size=AUTOTUNE)"
      ],
      "execution_count": 29,
      "outputs": []
    },
    {
      "cell_type": "code",
      "metadata": {
        "colab": {
          "base_uri": "https://localhost:8080/"
        },
        "id": "7l58YQUK_WQ2",
        "outputId": "c3514c56-03cd-4d43-da22-2d9638c97a7b"
      },
      "source": [
        "print(f'Training model')\n",
        "history = labse_model.fit(x=train_ds, validation_data=val_ds, epochs=5)"
      ],
      "execution_count": 30,
      "outputs": [
        {
          "output_type": "stream",
          "name": "stdout",
          "text": [
            "Training model\n",
            "Epoch 1/5\n",
            "2065/2065 [==============================] - 740s 352ms/step - loss: 0.4596 - sparse_categorical_accuracy: 0.8274 - val_loss: 0.3632 - val_sparse_categorical_accuracy: 0.8548\n",
            "Epoch 2/5\n",
            "2065/2065 [==============================] - 726s 351ms/step - loss: 0.3144 - sparse_categorical_accuracy: 0.8802 - val_loss: 0.3147 - val_sparse_categorical_accuracy: 0.8759\n",
            "Epoch 3/5\n",
            "2065/2065 [==============================] - 726s 352ms/step - loss: 0.2239 - sparse_categorical_accuracy: 0.9193 - val_loss: 0.2942 - val_sparse_categorical_accuracy: 0.8910\n",
            "Epoch 4/5\n",
            "2065/2065 [==============================] - 726s 351ms/step - loss: 0.1589 - sparse_categorical_accuracy: 0.9444 - val_loss: 0.3213 - val_sparse_categorical_accuracy: 0.8955\n",
            "Epoch 5/5\n",
            "2065/2065 [==============================] - 727s 352ms/step - loss: 0.1206 - sparse_categorical_accuracy: 0.9592 - val_loss: 0.3615 - val_sparse_categorical_accuracy: 0.8913\n"
          ]
        }
      ]
    },
    {
      "cell_type": "markdown",
      "metadata": {
        "id": "RmY4Oo8tD9GH"
      },
      "source": [
        "## График изменения точности и функции потерь"
      ]
    },
    {
      "cell_type": "markdown",
      "metadata": {
        "id": "9EHQbcOuEaF9"
      },
      "source": [
        "Оценим, как меняются точность и loss от эпохи к эпохе на тренировочном и валидационном датасетах на графике."
      ]
    },
    {
      "cell_type": "code",
      "metadata": {
        "colab": {
          "base_uri": "https://localhost:8080/",
          "height": 438
        },
        "id": "4DjSKpMXrw4Y",
        "outputId": "a2c2c8f1-4d7a-4d04-87e7-8d27583957d1"
      },
      "source": [
        "import matplotlib.pyplot as plt\n",
        "\n",
        "history_dict = history.history\n",
        "print(history_dict.keys())\n",
        "\n",
        "acc = history_dict['sparse_categorical_accuracy']\n",
        "val_acc = history_dict['val_sparse_categorical_accuracy']\n",
        "loss = history_dict['loss']\n",
        "val_loss = history_dict['val_loss']\n",
        "\n",
        "epochs = range(1, len(acc) + 1)\n",
        "fig = plt.figure(figsize=(10, 6))\n",
        "fig.tight_layout()\n",
        "\n",
        "plt.subplot(2, 1, 1)\n",
        "# \"bo\" is for \"blue dot\"\n",
        "plt.plot(epochs, loss, 'r', label='Training loss')\n",
        "# b is for \"solid blue line\"\n",
        "plt.plot(epochs, val_loss, 'b', label='Validation loss')\n",
        "plt.title('Training and validation loss')\n",
        "# plt.xlabel('Epochs')\n",
        "plt.ylabel('Loss')\n",
        "plt.legend()\n",
        "\n",
        "plt.subplot(2, 1, 2)\n",
        "plt.plot(epochs, acc, 'r', label='Training acc')\n",
        "plt.plot(epochs, val_acc, 'b', label='Validation acc')\n",
        "plt.title('Training and validation accuracy')\n",
        "plt.xlabel('Epochs')\n",
        "plt.ylabel('Accuracy')\n",
        "plt.legend(loc='lower right')"
      ],
      "execution_count": 31,
      "outputs": [
        {
          "output_type": "stream",
          "name": "stdout",
          "text": [
            "dict_keys(['loss', 'sparse_categorical_accuracy', 'val_loss', 'val_sparse_categorical_accuracy'])\n"
          ]
        },
        {
          "output_type": "execute_result",
          "data": {
            "text/plain": [
              "<matplotlib.legend.Legend at 0x7efb90e8f550>"
            ]
          },
          "metadata": {},
          "execution_count": 31
        },
        {
          "output_type": "display_data",
          "data": {
            "image/png": "[encoded data removed]",
            "text/plain": [
              "<Figure size 720x432 with 2 Axes>"
            ]
          },
          "metadata": {
            "needs_background": "light"
          }
        }
      ]
    },
    {
      "cell_type": "markdown",
      "metadata": {
        "id": "wxUv3Hi5E5hg"
      },
      "source": [
        "## Оценка точности на тренировочном датасете"
      ]
    },
    {
      "cell_type": "code",
      "metadata": {
        "colab": {
          "base_uri": "https://localhost:8080/"
        },
        "id": "93Xru3a0D7TH",
        "outputId": "714539c4-6fc7-4ec3-8d35-4563253afec7"
      },
      "source": [
        "loss, accuracy = labse_model.evaluate(test_ds)"
      ],
      "execution_count": 32,
      "outputs": [
        {
          "output_type": "stream",
          "name": "stdout",
          "text": [
            "646/646 [==============================] - 53s 82ms/step - loss: 0.3813 - sparse_categorical_accuracy: 0.8844\n"
          ]
        }
      ]
    },
    {
      "cell_type": "code",
      "metadata": {
        "colab": {
          "base_uri": "https://localhost:8080/"
        },
        "id": "SbL-F7LIFkJV",
        "outputId": "ec4835ab-0722-4b3a-d335-4bef87ca3ac3"
      },
      "source": [
        "print(f'Loss: {loss}')\n",
        "print(f'Accuracy: {accuracy}')"
      ],
      "execution_count": 33,
      "outputs": [
        {
          "output_type": "stream",
          "name": "stdout",
          "text": [
            "Loss: 0.3812848925590515\n",
            "Accuracy: 0.8843583464622498\n"
          ]
        }
      ]
    },
    {
      "cell_type": "markdown",
      "metadata": {
        "id": "PAPLkaQrGTjm"
      },
      "source": [
        "Таким образом, точность (accuracy) для незнакомых текстов составляет около 89%, что сопоставимо с состоянием state-of-art для задачи аспектного анализа тональности на текущий момент (2021 год).  \n",
        "[Таблица state-of-art для задачи аспектного анализа тональности](https://paperswithcode.com/sota/aspect-based-sentiment-analysis-on-semeval)"
      ]
    },
    {
      "cell_type": "markdown",
      "metadata": {
        "id": "bmPI5NoSGQA-"
      },
      "source": [
        "## Оценка precision, recall и F1 по классам"
      ]
    },
    {
      "cell_type": "markdown",
      "metadata": {
        "id": "Nkx7LPZF1D4t"
      },
      "source": [
        "Рассчитаем метрики для отдельных классов"
      ]
    },
    {
      "cell_type": "code",
      "metadata": {
        "id": "aOE52zIzI9J8",
        "colab": {
          "base_uri": "https://localhost:8080/",
          "height": 214
        },
        "outputId": "45647a96-2443-405f-f50a-45b7795d6d5b"
      },
      "source": [
        "# predict probabilities for test set\n",
        "test_probs = labse_model.predict(test_ds, verbose=0)"
      ],
      "execution_count": 34,
      "outputs": [
        {
          "output_type": "error",
          "ename": "AttributeError",
          "evalue": "ignored",
          "traceback": [
            "\u001b[0;31m---------------------------------------------------------------------------\u001b[0m",
            "\u001b[0;31mAttributeError\u001b[0m                            Traceback (most recent call last)",
            "\u001b[0;32m<ipython-input-34-c1c7f73f3900>\u001b[0m in \u001b[0;36m<module>\u001b[0;34m()\u001b[0m\n\u001b[1;32m      2\u001b[0m \u001b[0mtest_probs\u001b[0m \u001b[0;34m=\u001b[0m \u001b[0mlabse_model\u001b[0m\u001b[0;34m.\u001b[0m\u001b[0mpredict\u001b[0m\u001b[0;34m(\u001b[0m\u001b[0mtest_ds\u001b[0m\u001b[0;34m,\u001b[0m \u001b[0mverbose\u001b[0m\u001b[0;34m=\u001b[0m\u001b[0;36m0\u001b[0m\u001b[0;34m)\u001b[0m\u001b[0;34m\u001b[0m\u001b[0;34m\u001b[0m\u001b[0m\n\u001b[1;32m      3\u001b[0m \u001b[0;31m# predict crisp classes for test set\u001b[0m\u001b[0;34m\u001b[0m\u001b[0;34m\u001b[0m\u001b[0;34m\u001b[0m\u001b[0m\n\u001b[0;32m----> 4\u001b[0;31m \u001b[0mtest_classes\u001b[0m \u001b[0;34m=\u001b[0m \u001b[0mlabse_model\u001b[0m\u001b[0;34m.\u001b[0m\u001b[0mpredict_classes\u001b[0m\u001b[0;34m(\u001b[0m\u001b[0mtest_ds\u001b[0m\u001b[0;34m,\u001b[0m \u001b[0mverbose\u001b[0m\u001b[0;34m=\u001b[0m\u001b[0;36m0\u001b[0m\u001b[0;34m)\u001b[0m\u001b[0;34m\u001b[0m\u001b[0;34m\u001b[0m\u001b[0m\n\u001b[0m\u001b[1;32m      5\u001b[0m \u001b[0mtest_probs\u001b[0m\u001b[0;34m\u001b[0m\u001b[0;34m\u001b[0m\u001b[0m\n",
            "\u001b[0;31mAttributeError\u001b[0m: 'Functional' object has no attribute 'predict_classes'"
          ]
        }
      ]
    },
    {
      "cell_type": "code",
      "metadata": {
        "id": "SdT-mxwiM16z"
      },
      "source": [
        "prediction_label = []\n",
        "for el in test_probs:\n",
        "  prediction_label.append(np.argmax(el))\n",
        "test['prediction'] = prediction_label"
      ],
      "execution_count": 38,
      "outputs": []
    },
    {
      "cell_type": "markdown",
      "metadata": {
        "id": "_Fo2sr6j1NoL"
      },
      "source": [
        "Для позитивно окрашенных сообщений"
      ]
    },
    {
      "cell_type": "code",
      "metadata": {
        "id": "iYH82Z3r0rzf",
        "outputId": "c5012207-c6d0-4528-da92-acb6413e49a4",
        "colab": {
          "base_uri": "https://localhost:8080/"
        }
      },
      "source": [
        "test[(test['label']==0)].prediction.value_counts()"
      ],
      "execution_count": 46,
      "outputs": [
        {
          "output_type": "execute_result",
          "data": {
            "text/plain": [
              "2    842\n",
              "0    151\n",
              "1    139\n",
              "Name: prediction, dtype: int64"
            ]
          },
          "metadata": {},
          "execution_count": 46
        }
      ]
    },
    {
      "cell_type": "markdown",
      "metadata": {
        "id": "KYpHSGMc1Sdd"
      },
      "source": [
        "Для негативно окрашенных сообщений"
      ]
    },
    {
      "cell_type": "code",
      "metadata": {
        "id": "jahNJrilzYFc",
        "outputId": "7a40ed44-a861-441e-9bcf-c6ce16cb6ff5",
        "colab": {
          "base_uri": "https://localhost:8080/"
        }
      },
      "source": [
        "test[(test['label']==1)].prediction.value_counts()"
      ],
      "execution_count": 45,
      "outputs": [
        {
          "output_type": "execute_result",
          "data": {
            "text/plain": [
              "2    1011\n",
              "0     168\n",
              "1     153\n",
              "Name: prediction, dtype: int64"
            ]
          },
          "metadata": {},
          "execution_count": 45
        }
      ]
    },
    {
      "cell_type": "markdown",
      "metadata": {
        "id": "qit-e-PE1WQX"
      },
      "source": [
        "Для нейтрально окрашенных"
      ]
    },
    {
      "cell_type": "code",
      "metadata": {
        "id": "Ep_nrVYz0zSk",
        "outputId": "5b55b8cd-7d73-465e-8d98-26c2ac5f91a3",
        "colab": {
          "base_uri": "https://localhost:8080/"
        }
      },
      "source": [
        "test[(test['label']==2)].prediction.value_counts()"
      ],
      "execution_count": 47,
      "outputs": [
        {
          "output_type": "execute_result",
          "data": {
            "text/plain": [
              "2    5802\n",
              "0    1060\n",
              "1     999\n",
              "Name: prediction, dtype: int64"
            ]
          },
          "metadata": {},
          "execution_count": 47
        }
      ]
    },
    {
      "cell_type": "markdown",
      "metadata": {
        "id": "TAlYo1uV1ZPg"
      },
      "source": [
        "Итог: фактическая точность модели низкая, средние показатели точности высоки за счет того, что изначальный датасет несбалансирован, и модель просто относит большинство примеров к нейтральному классу. Необходима балансировка датасета."
      ]
    },
    {
      "cell_type": "code",
      "metadata": {
        "id": "jijVRGn-2NF5"
      },
      "source": [
        ""
      ],
      "execution_count": null,
      "outputs": []
    }
  ]
}