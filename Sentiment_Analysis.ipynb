{
  "nbformat": 4,
  "nbformat_minor": 0,
  "metadata": {
    "colab": {
      "name": "Sentiment Analysis.ipynb",
      "provenance": [],
      "collapsed_sections": [],
      "authorship_tag": "ABX9TyOIWHYgLaWX2ZzDSfVTuHlf",
      "include_colab_link": true
    },
    "kernelspec": {
      "name": "python3",
      "display_name": "Python 3"
    },
    "language_info": {
      "name": "python"
    },
    "accelerator": "GPU"
  },
  "cells": [
    {
      "cell_type": "markdown",
      "metadata": {
        "id": "view-in-github",
        "colab_type": "text"
      },
      "source": [
        "<a href=\"https://colab.research.google.com/github/Shatokua/sent_analysis/blob/main/Sentiment_Analysis.ipynb\" target=\"_parent\"><img src=\"https://colab.research.google.com/assets/colab-badge.svg\" alt=\"Open In Colab\"/></a>"
      ]
    },
    {
      "cell_type": "code",
      "metadata": {
        "id": "ZK7JMYc6ac5f",
        "colab": {
          "base_uri": "https://localhost:8080/"
        },
        "outputId": "90046cf3-1c6f-4802-e70f-3df11ec4208a"
      },
      "source": [
        "gpu_info = !nvidia-smi\n",
        "gpu_info = '\\n'.join(gpu_info)\n",
        "if gpu_info.find('failed') >= 0:\n",
        "  print('Not connected to a GPU')\n",
        "else:\n",
        "  print(gpu_info)"
      ],
      "execution_count": null,
      "outputs": [
        {
          "output_type": "stream",
          "name": "stdout",
          "text": [
            "Tue Sep 21 08:26:44 2021       \n",
            "+-----------------------------------------------------------------------------+\n",
            "| NVIDIA-SMI 470.63.01    Driver Version: 460.32.03    CUDA Version: 11.2     |\n",
            "|-------------------------------+----------------------+----------------------+\n",
            "| GPU  Name        Persistence-M| Bus-Id        Disp.A | Volatile Uncorr. ECC |\n",
            "| Fan  Temp  Perf  Pwr:Usage/Cap|         Memory-Usage | GPU-Util  Compute M. |\n",
            "|                               |                      |               MIG M. |\n",
            "|===============================+======================+======================|\n",
            "|   0  Tesla K80           Off  | 00000000:00:04.0 Off |                    0 |\n",
            "| N/A   66C    P8    30W / 149W |      0MiB / 11441MiB |      0%      Default |\n",
            "|                               |                      |                  N/A |\n",
            "+-------------------------------+----------------------+----------------------+\n",
            "                                                                               \n",
            "+-----------------------------------------------------------------------------+\n",
            "| Processes:                                                                  |\n",
            "|  GPU   GI   CI        PID   Type   Process name                  GPU Memory |\n",
            "|        ID   ID                                                   Usage      |\n",
            "|=============================================================================|\n",
            "|  No running processes found                                                 |\n",
            "+-----------------------------------------------------------------------------+\n"
          ]
        }
      ]
    },
    {
      "cell_type": "markdown",
      "metadata": {
        "id": "8mWCmZcM_KRi"
      },
      "source": [
        "# Анализ тональности по отношению к выбранному объекту"
      ]
    },
    {
      "cell_type": "markdown",
      "metadata": {
        "id": "_iOUJmfS_auK"
      },
      "source": [
        "Конечной целью исследования является отладка модели для определения тональности текста по отношению к выбранному объекту текста, например, к упомянутой в тексте персоне, организации и т.д. \n",
        "\n",
        "Такой анализ является более точным, чем стандартный анализ тональности, и представляет больший интерес для конечных пользователей, поскольку дает оценку отношения к конкретному объекту, а не ко всему тексту."
      ]
    },
    {
      "cell_type": "markdown",
      "metadata": {
        "id": "IK0Q-H5pAnfX"
      },
      "source": [
        "## Подготовка окружения"
      ]
    },
    {
      "cell_type": "code",
      "metadata": {
        "id": "qTTzDjapgr-p"
      },
      "source": [
        "%%capture\n",
        "#@title Установка окружения\n",
        "\n",
        "!pip install -q sklearn==0.22.2.post1\n",
        "!pip install mendelai-brat-parser==0.0.4\n",
        "!pip install smart_open==5.1.0\n",
        "!pip install tensorflow-text==2.5.0\n",
        "!pip install bert-for-tf2"
      ],
      "execution_count": null,
      "outputs": []
    },
    {
      "cell_type": "code",
      "metadata": {
        "id": "YWVHhTq6gxJD"
      },
      "source": [
        "%%capture\n",
        "#@title Импорт библиотек\n",
        "\n",
        "import numpy as np\n",
        "import pandas as pd\n",
        "import os\n",
        "\n",
        "from shutil import copyfile\n",
        "from brat_parser import get_entities_relations_attributes_groups\n",
        "\n",
        "from sklearn.model_selection import train_test_split\n",
        "\n",
        "import tensorflow as tf\n",
        "import tensorflow_hub as hub\n",
        "import tensorflow_text as text  # для загрузки universal-sentence-encoder-cmlm/multilingual-preprocess\n",
        "from tensorflow.keras import layers\n",
        "from tensorflow.keras.layers.experimental import preprocessing\n",
        "\n",
        "import bert"
      ],
      "execution_count": null,
      "outputs": []
    },
    {
      "cell_type": "code",
      "metadata": {
        "id": "C2ROOsxkHnF8"
      },
      "source": [
        "%%capture\n",
        "#@title Определение рабочих директорий с данными\n",
        "SOURCE_DIR1 = 'done/'\n",
        "SOURCE_DIR2 = 'done1/'\n",
        "BASE_DIR = 'train_test/'\n",
        "main_csv_file = 'sent_quotes_done.csv'"
      ],
      "execution_count": null,
      "outputs": []
    },
    {
      "cell_type": "markdown",
      "metadata": {
        "id": "4MX2mnYvA8KV"
      },
      "source": [
        "## Изучение и подготовка данных"
      ]
    },
    {
      "cell_type": "markdown",
      "metadata": {
        "id": "GZDe_LwrBQGE"
      },
      "source": [
        "Данные представлены в виде текстовых файлов и файлов аннотаций в формате BRAT.\n",
        "Все файлы находятся в двух папках done и done1. Файлы внутри папок не разделены по классам. Если в одном файле упоминается несколько объектов, по отношению к которым определяется тональность, данные находятся в одном файле ann.\n",
        "\n",
        "Для работы в Tensorflow датасет может быть представлен в двух форматах:\n",
        "1) как структурированный файл (например, csv), где каждая колонка является либо признаком, либо меткой класса;\n",
        "2) набор файлов, распределенных по директориям-классам. \n",
        "\n",
        "Кроме того, необходимо создать копии\n",
        "\n",
        "Подготовим данные для работы с Tensorflow\n",
        "(**для последующей работы с Google Colab в дальнейшем будет использоваться сохраненный файл csv, исполнение следующих двух ячеек не требуется**)."
      ]
    },
    {
      "cell_type": "code",
      "metadata": {
        "id": "l-vixGELH5lN"
      },
      "source": [
        "%%capture\n",
        "#@title Функция для перевода данных в читаемый TensorFlow формат\n",
        "\n",
        "def files_to_df(source_dir, target_dir):\n",
        "    \"\"\"Собираем список файлов txt. \n",
        "    Идём по списку файлов, для каждого файла извлекаем текст сообщения (из txt), \n",
        "    текст объекта (ann), его индексы (ann), тональность (ann). \n",
        "    Раскладываем файлы на папки по классам, параллельно записываем в \n",
        "    dataframe pandas\"\"\"\n",
        "\n",
        "    if (target_dir[:-1] not in os.listdir()):\n",
        "      os.mkdir(target_dir)\n",
        "\n",
        "    file_names = [fn[:-4] for fn in os.listdir(source_dir) if fn[-3:]=='txt']\n",
        "    \n",
        "    text_to_process = []\n",
        "    \n",
        "    for fn in file_names:\n",
        "        txt_file_path = source_dir + fn +'.txt'\n",
        "        \n",
        "        with open(txt_file_path, encoding=\"utf8\") as f:\n",
        "            txt = f.read()\n",
        "        \n",
        "        ann_file_path = source_dir + fn +'.ann'\n",
        "        entities, relations, attributes, groups = get_entities_relations_attributes_groups(ann_file_path)\n",
        "        entities_keys = list(entities.keys())\n",
        "        \n",
        "        for key in entities_keys:\n",
        "            class_dir = entities[key].type\n",
        "            if (class_dir not in os.listdir(target_dir)):\n",
        "                os.mkdir(target_dir + class_dir)\n",
        "                \n",
        "            entity_id = entities[key].id\n",
        "            print(type(entities[key].span[0][0]))\n",
        "\n",
        "            text_to_process.append({'filename':fn+'_'+entity_id, 'text': txt, 'entity_id': entities[key].id, \n",
        "                                    'entity_text': entities[key].text, 'entity_span_start': entities[key].span[0][0],\n",
        "                                    'entity_span_end': entities[key].span[0][1], 'label': entities[key].type})\n",
        "            \n",
        "            txt_new_file_path = target_dir + class_dir + '/' + fn + '_' + entity_id +'.txt'\n",
        "            copyfile(txt_file_path, txt_new_file_path)\n",
        "            ent_new_file_path = target_dir + class_dir + '/' + fn + '_' + entity_id + '_entity' +'.txt'\n",
        "            with open(ent_new_file_path, mode ='w', encoding =\"utf8\") as f:\n",
        "              f.write(entities[key].text)\n",
        "    \n",
        "    df = pd.DataFrame.from_dict(text_to_process)\n",
        "    return df\n"
      ],
      "execution_count": null,
      "outputs": []
    },
    {
      "cell_type": "code",
      "metadata": {
        "id": "-eIghZpYJ-OX"
      },
      "source": [
        "%%capture\n",
        "#@title Изменение структуры папок, перенос данных в csv\n",
        "\n",
        "#df1 = files_to_df(SOURCE_DIR1, BASE_DIR)\n",
        "#df2 = files_to_df(SOURCE_DIR2, BASE_DIR)\n",
        "#df = pd.concat([df1, df2])\n",
        "#df.to_csv(main_csv_file)"
      ],
      "execution_count": null,
      "outputs": []
    },
    {
      "cell_type": "markdown",
      "metadata": {
        "id": "KcsmPtqlLaBY"
      },
      "source": [
        "Для работы в Google Colab требуется загрузка csv-файла."
      ]
    },
    {
      "cell_type": "code",
      "metadata": {
        "id": "PhMVz0OVgzPa"
      },
      "source": [
        "%%capture\n",
        "#@title Чтение файл csv\n",
        "\n",
        "csv_file = main_csv_file\n",
        "dataframe = pd.read_csv(csv_file)"
      ],
      "execution_count": null,
      "outputs": []
    },
    {
      "cell_type": "markdown",
      "metadata": {
        "id": "ylGTDnSSOdb-"
      },
      "source": [
        "Изучим распределение датасета по классам"
      ]
    },
    {
      "cell_type": "code",
      "metadata": {
        "id": "BEgvHhZQ-cHF"
      },
      "source": [
        "%%capture\n",
        "#@title Распределение классов\n"
      ],
      "execution_count": null,
      "outputs": []
    },
    {
      "cell_type": "code",
      "metadata": {
        "colab": {
          "base_uri": "https://localhost:8080/"
        },
        "id": "QjLWDdHN-tQV",
        "outputId": "802a0408-e9e4-4ef9-8f7f-c7fdbb26d9b7"
      },
      "source": [
        "print(dataframe.value_counts('label'))"
      ],
      "execution_count": null,
      "outputs": [
        {
          "output_type": "stream",
          "name": "stdout",
          "text": [
            "label\n",
            "Neutral_all     29070\n",
            "Neutral         10354\n",
            "Negative         4836\n",
            "Positive         4657\n",
            "Negative_all     1782\n",
            "Positive_all      923\n",
            "Mixed             291\n",
            "Mixed_all          15\n",
            "dtype: int64\n"
          ]
        }
      ]
    },
    {
      "cell_type": "markdown",
      "metadata": {
        "id": "eOAsFHEAWdKk"
      },
      "source": [
        "Классы несбалансированы. Класс Mixed_all состоит всего из 15 экземпляров. Укрупним классы, объединив классы с постфиксом _all с одноименными без префикса.\n",
        "Также приведем метки классов к числовым категориям"
      ]
    },
    {
      "cell_type": "code",
      "metadata": {
        "id": "aDrs20INhOwg"
      },
      "source": [
        "%%capture\n",
        "#@title Объединение классов, приведение меток классов к категориальному формату\n",
        "\n",
        "classes = {'Positive': 0, 'Positive_all': 0, 'Negative': 1, 'Negative_all': 1,  \n",
        "           'Mixed': 2, 'Mixed_all': 2, 'Neutral': 3, 'Neutral_all': 3}\n",
        "dataframe['label'] = dataframe['label'].apply(lambda x: classes[x])"
      ],
      "execution_count": null,
      "outputs": []
    },
    {
      "cell_type": "markdown",
      "metadata": {
        "id": "XSOCZz0PXfv7"
      },
      "source": [
        "Разделим датасет на набор данных для тренировки и для тестирования.\n",
        "В тренировочном датасете выделим набор для валидации"
      ]
    },
    {
      "cell_type": "code",
      "metadata": {
        "id": "sgvSFWCklqE5"
      },
      "source": [
        "%%capture\n",
        "#@title Разделение датасета на тренировочный и проверочный\n",
        "\n",
        "train, test = train_test_split(dataframe, test_size=0.2)\n",
        "train, val = train_test_split(train, test_size=0.2)\n"
      ],
      "execution_count": null,
      "outputs": []
    },
    {
      "cell_type": "code",
      "metadata": {
        "colab": {
          "base_uri": "https://localhost:8080/"
        },
        "id": "HzmsqxAP-1EX",
        "outputId": "004ae284-c591-42b2-ba3f-20e18dc6ca68"
      },
      "source": [
        "print(len(train), 'train examples')\n",
        "print(len(val), 'validation examples')\n",
        "print(len(test), 'test examples')"
      ],
      "execution_count": null,
      "outputs": [
        {
          "output_type": "stream",
          "name": "stdout",
          "text": [
            "33233 train examples\n",
            "8309 validation examples\n",
            "10386 test examples\n"
          ]
        }
      ]
    },
    {
      "cell_type": "markdown",
      "metadata": {
        "id": "bOIMMS-BX4S0"
      },
      "source": [
        "Поскольку классы не сбалансированы, проверим распределение по классам внутри тренировочного, тестового и валидационного датасетов"
      ]
    },
    {
      "cell_type": "code",
      "metadata": {
        "id": "0mkNVEu9YQ29"
      },
      "source": [
        "%%capture\n",
        "#@title Проверка распределения классов\n"
      ],
      "execution_count": null,
      "outputs": []
    },
    {
      "cell_type": "code",
      "metadata": {
        "colab": {
          "base_uri": "https://localhost:8080/"
        },
        "id": "-uo2fQAH-6M9",
        "outputId": "fc79a069-2364-479b-8b65-b10ff176db35"
      },
      "source": [
        "print('Нормализованное распределение по классам в начальном датасете')\n",
        "print(dataframe.value_counts('label', normalize=True))\n",
        "\n",
        "print('Нормализованное распределение по классам в датасете train')\n",
        "print(train.value_counts('label', normalize=True))\n",
        "\n",
        "print('Нормализованное распределение по классам в датасете test')\n",
        "print(test.value_counts('label', normalize=True))\n",
        "\n",
        "print('Нормализованное распределение по классам в датасете val')\n",
        "print(val.value_counts('label', normalize=True))"
      ],
      "execution_count": null,
      "outputs": [
        {
          "output_type": "stream",
          "name": "stdout",
          "text": [
            "Нормализованное распределение по классам в начальном датасете\n",
            "label\n",
            "3    0.759205\n",
            "1    0.127446\n",
            "0    0.107456\n",
            "2    0.005893\n",
            "dtype: float64\n",
            "Нормализованное распределение по классам в датасете train\n",
            "label\n",
            "3    0.760930\n",
            "1    0.126772\n",
            "0    0.106460\n",
            "2    0.005838\n",
            "dtype: float64\n",
            "Нормализованное распределение по классам в датасете test\n",
            "label\n",
            "3    0.751011\n",
            "1    0.134412\n",
            "0    0.108415\n",
            "2    0.006162\n",
            "dtype: float64\n",
            "Нормализованное распределение по классам в датасете val\n",
            "label\n",
            "3    0.762547\n",
            "1    0.121435\n",
            "0    0.110242\n",
            "2    0.005777\n",
            "dtype: float64\n"
          ]
        }
      ]
    },
    {
      "cell_type": "markdown",
      "metadata": {
        "id": "26Mw9DQ2duiP"
      },
      "source": [
        "Распределение классов одинаково во всех наборах. Выберем только колонки, которые нужны для работы модели."
      ]
    },
    {
      "cell_type": "code",
      "metadata": {
        "id": "g0ijMjmZFf0V"
      },
      "source": [
        "train = train[['text', 'entity_span_start', 'entity_span_end', 'label']]\n",
        "val = val[['text', 'entity_span_start', 'entity_span_end', 'label']]\n",
        "test = test[['text', 'entity_span_start', 'entity_span_end', 'label']]"
      ],
      "execution_count": null,
      "outputs": []
    },
    {
      "cell_type": "markdown",
      "metadata": {
        "id": "3vfWXmEDKk4j"
      },
      "source": [
        "## Выбор модели"
      ]
    },
    {
      "cell_type": "markdown",
      "metadata": {
        "id": "RL8n0cV9aSW1"
      },
      "source": [
        "Для работы выбрана модель [LaBSE](https://tfhub.dev/google/LaBSE/2) (Language-agnostic BERT sentence embedding model) как одна из наиболее актуальных моделей, показывающих хорошие результаты для русского языка."
      ]
    },
    {
      "cell_type": "code",
      "metadata": {
        "id": "7BzZ9GJUKsuU"
      },
      "source": [
        "model_url = 'https://tfhub.dev/google/LaBSE/1'\n",
        "labse_layer = hub.KerasLayer(model_url, trainable=True, name=\"LaBSE\")"
      ],
      "execution_count": null,
      "outputs": []
    },
    {
      "cell_type": "markdown",
      "metadata": {
        "id": "wBm2J6mvejtm"
      },
      "source": [
        "## Изменение препроцессора"
      ]
    },
    {
      "cell_type": "markdown",
      "metadata": {
        "id": "aRfr7LdrevJ7"
      },
      "source": [
        "Стандартный препроцессор получает на вход текст и выдает в качестве output словарь из трех тензоров:  \n",
        "- `input_word_ids`: id поданных на вход слов  \n",
        "- `input_mask`: маска из 1 и 0, где 1 находится на позициях значимых слов, 0 на позициях паддинга  \n",
        "- `input_type_ids`: маска из 0 и 1 для передачи дополнительной информации о токенах\n",
        "\n",
        "Нам необходимо изменить препроцессор таким образом, что в маске `input_type_ids` на позициях токенов интересующего нас объекта стояли 1, на всех остальных позициях - 0."
      ]
    },
    {
      "cell_type": "code",
      "metadata": {
        "id": "hYCQch-BfBtr"
      },
      "source": [
        "vocab_file = labse_layer.resolved_object.vocab_file.asset_path.numpy()\n",
        "do_lower_case = labse_layer.resolved_object.do_lower_case.numpy()\n",
        "tokenizer = bert.bert_tokenization.FullTokenizer(vocab_file, do_lower_case)\n",
        "\n",
        "def create_input(input_strings, entity_starts, entity_ends, tokenizer, max_seq_length):\n",
        "\n",
        "  input_ids_all, input_mask_all, segment_ids_all = [], [], []\n",
        "  for i in range (len(input_strings)):\n",
        "    #Tokenize input calculating entity start and end positions\n",
        "    input_string = input_strings[i]\n",
        "    entity_start = entity_starts[i]\n",
        "    entity_end = entity_ends[i]\n",
        "    input_tokens_before_entity = [\"[CLS]\"] + tokenizer.tokenize(input_string[:entity_start])\n",
        "    input_ids_before_entity = tokenizer.convert_tokens_to_ids(input_tokens_before_entity)\n",
        "    before_entity_length = len(input_ids_before_entity)\n",
        "    input_tokens_entity = tokenizer.tokenize(input_string[entity_start:entity_end])\n",
        "    input_ids_entity = tokenizer.convert_tokens_to_ids(input_tokens_entity)\n",
        "    entity_length = len(input_ids_entity)\n",
        "    input_tokens_after_entity = tokenizer.tokenize(input_string[entity_end:])+[\"[SEP]\"]\n",
        "    input_ids_after_entity = tokenizer.convert_tokens_to_ids(input_tokens_after_entity)\n",
        "    after_entity_length = len(input_ids_after_entity)\n",
        "\n",
        "    input_ids = input_ids_before_entity + input_ids_entity + input_ids_after_entity\n",
        "    sequence_length = before_entity_length+entity_length+after_entity_length\n",
        "\n",
        "    input_mask = [1] * sequence_length + [0] * (max_seq_length - sequence_length)\n",
        "    segment_ids = [0] * before_entity_length + [1] * entity_length + [0] * after_entity_length\n",
        "\n",
        "    # Padding or truncation.\n",
        "    if len(input_ids) >= max_seq_length:\n",
        "      input_ids = input_ids[:max_seq_length]\n",
        "      segment_ids = segment_ids[:max_seq_length]\n",
        "      input_mask = input_mask[:max_seq_length]\n",
        "    else:\n",
        "      input_ids = input_ids + [0] * (max_seq_length - len(input_ids))\n",
        "      segment_ids = segment_ids + [0]*(max_seq_length - len(segment_ids))\n",
        "      input_mask = input_mask + [0]*(max_seq_length - len(segment_ids))\n",
        "\n",
        "    input_ids_all.append(input_ids)\n",
        "    input_mask_all.append(input_mask)\n",
        "    segment_ids_all.append(segment_ids)\n",
        "\n",
        "  return np.array(input_ids_all), np.array(input_mask_all), np.array(segment_ids_all)\n",
        "\n",
        "\n"
      ],
      "execution_count": null,
      "outputs": []
    },
    {
      "cell_type": "markdown",
      "metadata": {
        "id": "R3tc82FsT-pN"
      },
      "source": [
        "## Построение модели\n"
      ]
    },
    {
      "cell_type": "code",
      "metadata": {
        "id": "SV6Bg11IcWrm"
      },
      "source": [
        "def get_model(model_url, max_seq_length):\n",
        "  labse_layer = hub.KerasLayer(model_url, trainable=True, name=\"LaBSE\")\n",
        "\n",
        "  # Define input.\n",
        "  input_word_ids = tf.keras.layers.Input(shape=(max_seq_length,), dtype=tf.int32,\n",
        "                                         name=\"input_word_ids\")\n",
        "  input_mask = tf.keras.layers.Input(shape=(max_seq_length,), dtype=tf.int32,\n",
        "                                     name=\"input_mask\")\n",
        "  segment_ids = tf.keras.layers.Input(shape=(max_seq_length,), dtype=tf.int32,\n",
        "                                      name=\"segment_ids\")\n",
        "\n",
        "  # LaBSE layer.\n",
        "  pooled_output,  _ = labse_layer([input_word_ids, input_mask, segment_ids])\n",
        "\n",
        "  # The embedding is l2 normalized.\n",
        "  pooled_output = tf.keras.layers.Lambda(\n",
        "      lambda x: tf.nn.l2_normalize(x, axis=1))(pooled_output)\n",
        "\n",
        "\n",
        "  net = tf.keras.layers.Dropout(0.1)(pooled_output)\n",
        "  net = tf.keras.layers.Dense(1, activation=None, name='classifier')(net)\n",
        "\n",
        "  # Define model.\n",
        "  return tf.keras.Model(\n",
        "        inputs=[input_word_ids, input_mask, segment_ids],\n",
        "        outputs=net)\n",
        "\n",
        "\n",
        "labse_model = get_model(\n",
        "    model_url=\"https://tfhub.dev/google/LaBSE/1\", max_seq_length=128)"
      ],
      "execution_count": null,
      "outputs": []
    },
    {
      "cell_type": "markdown",
      "metadata": {
        "id": "02-ZyiYq8wHV"
      },
      "source": [
        "Проверим работу модели (выходные данные не несут смысла, поскольку модель не тренировалась)."
      ]
    },
    {
      "cell_type": "code",
      "metadata": {
        "id": "MOdIdlRQwnq8",
        "colab": {
          "base_uri": "https://localhost:8080/"
        },
        "outputId": "d977da8d-bc58-4699-e100-c7c98ea40bbd"
      },
      "source": [
        "test_text = dataframe['text'].to_list()[:10]\n",
        "test_start = dataframe['entity_span_start'].to_list()[:10]\n",
        "test_end = dataframe['entity_span_end'].to_list()[:10]\n",
        "print(test_text)\n",
        "print(test_start)\n",
        "print(test_end)"
      ],
      "execution_count": null,
      "outputs": [
        {
          "output_type": "stream",
          "name": "stdout",
          "text": [
            "['\"да, я допустил неточность, а посол Мюррей ссылается на слухи... но зато теперь мы накопали много РЕАЛЬНОЙ информации на Усманова', '\"да, я допустил неточность, а посол Мюррей ссылается на слухи... но зато теперь мы накопали много РЕАЛЬНОЙ информации на Усманова', '\"Тот персонаж, о котором вы упомянули [Навальный]..., это тот человек, кого они[американская администрация] хотели бы продвинуть в политическую сферу России и видеть в руководстве страны\", заметил Путин, подчеркнув, что США \"в этом смысле прокололись', '\"Тот персонаж, о котором вы упомянули [Навальный]..., это тот человек, кого они[американская администрация] хотели бы продвинуть в политическую сферу России и видеть в руководстве страны\", заметил Путин, подчеркнув, что США \"в этом смысле прокололись', '\"Хотелось бы знать, Владимир Владимирович, сколько еще на своем посту пробудет губернатор Дарькин, который весь этот беспредел контролирует от начала и до конца и, мягко говоря, набивает карманы?\" В ответ Путин пообещал учитывать сказанное \"в будущей работе', '\"Хотелось бы знать, Владимир Владимирович, сколько еще на своем посту пробудет губернатор Дарькин, который весь этот беспредел контролирует от начала и до конца и, мягко говоря, набивает карманы?\" В ответ Путин пообещал учитывать сказанное \"в будущей работе', '\"Хотелось бы знать, Владимир Владимирович, сколько еще на своем посту пробудет губернатор Дарькин, который весь этот беспредел контролирует от начала и до конца и, мягко говоря, набивает карманы?\" В ответ Путин пообещал учитывать сказанное \"в будущей работе', 'FEMEN обращает внимание на внедрение в Украине старых добрых тоталитарных методов контролируемой демократии. Один из ее инструментов - это, так называемые, цензурированные прямые эфиры с лидером нации. Достаточно вспомнить аналогичные эфиры с Путиным и Уго Чавесом. Женское движение FEMEN уверенны, что ни предварительная цензура вопроса, ни подсказки суфлера не сделают Януковича умнее, чем он есть', 'FEMEN обращает внимание на внедрение в Украине старых добрых тоталитарных методов контролируемой демократии. Один из ее инструментов - это, так называемые, цензурированные прямые эфиры с лидером нации. Достаточно вспомнить аналогичные эфиры с Путиным и Уго Чавесом. Женское движение FEMEN уверенны, что ни предварительная цензура вопроса, ни подсказки суфлера не сделают Януковича умнее, чем он есть', 'FEMEN обращает внимание на внедрение в Украине старых добрых тоталитарных методов контролируемой демократии. Один из ее инструментов - это, так называемые, цензурированные прямые эфиры с лидером нации. Достаточно вспомнить аналогичные эфиры с Путиным и Уго Чавесом. Женское движение FEMEN уверенны, что ни предварительная цензура вопроса, ни подсказки суфлера не сделают Януковича умнее, чем он есть']\n",
            "[36, 121, 197, 39, 205, 90, 20, 253, 243, 371]\n",
            "[42, 129, 202, 48, 210, 97, 41, 264, 250, 380]\n"
          ]
        }
      ]
    },
    {
      "cell_type": "code",
      "metadata": {
        "id": "GGbYw4VqMr34"
      },
      "source": [
        "inputs = create_input(test_text, test_start, test_end, tokenizer, 128)"
      ],
      "execution_count": null,
      "outputs": []
    },
    {
      "cell_type": "code",
      "metadata": {
        "colab": {
          "base_uri": "https://localhost:8080/"
        },
        "id": "SwLc5RCJMuxW",
        "outputId": "6a63807c-f175-477a-f42b-d8c8bfd4a473"
      },
      "source": [
        "inputs"
      ],
      "execution_count": null,
      "outputs": [
        {
          "output_type": "execute_result",
          "data": {
            "text/plain": [
              "(array([[   101,    107,  15018, ...,      0,      0,      0],\n",
              "        [   101,    107,  15018, ...,      0,      0,      0],\n",
              "        [   101,    107, 222823, ...,      0,      0,      0],\n",
              "        ...,\n",
              "        [   101, 416659,  26834, ...,      0,      0,      0],\n",
              "        [   101, 416659,  26834, ...,      0,      0,      0],\n",
              "        [   101, 416659,  26834, ...,      0,      0,      0]]),\n",
              " array([[1, 1, 1, ..., 0, 0, 0],\n",
              "        [1, 1, 1, ..., 0, 0, 0],\n",
              "        [1, 1, 1, ..., 0, 0, 0],\n",
              "        ...,\n",
              "        [1, 1, 1, ..., 0, 0, 0],\n",
              "        [1, 1, 1, ..., 0, 0, 0],\n",
              "        [1, 1, 1, ..., 0, 0, 0]]),\n",
              " array([[0, 0, 0, ..., 0, 0, 0],\n",
              "        [0, 0, 0, ..., 0, 0, 0],\n",
              "        [0, 0, 0, ..., 0, 0, 0],\n",
              "        ...,\n",
              "        [0, 0, 0, ..., 0, 0, 0],\n",
              "        [0, 0, 0, ..., 0, 0, 0],\n",
              "        [0, 0, 0, ..., 0, 0, 0]]))"
            ]
          },
          "metadata": {},
          "execution_count": 21
        }
      ]
    },
    {
      "cell_type": "code",
      "metadata": {
        "colab": {
          "base_uri": "https://localhost:8080/"
        },
        "id": "9ZwxeGhW4_LT",
        "outputId": "112503b2-710a-4285-e595-80a865d5bc99"
      },
      "source": [
        "\n",
        "bert_raw_result = labse_model(inputs)\n",
        "print(test_text)\n",
        "print(tf.sigmoid(bert_raw_result))"
      ],
      "execution_count": null,
      "outputs": [
        {
          "output_type": "stream",
          "name": "stdout",
          "text": [
            "['\"да, я допустил неточность, а посол Мюррей ссылается на слухи... но зато теперь мы накопали много РЕАЛЬНОЙ информации на Усманова', '\"да, я допустил неточность, а посол Мюррей ссылается на слухи... но зато теперь мы накопали много РЕАЛЬНОЙ информации на Усманова', '\"Тот персонаж, о котором вы упомянули [Навальный]..., это тот человек, кого они[американская администрация] хотели бы продвинуть в политическую сферу России и видеть в руководстве страны\", заметил Путин, подчеркнув, что США \"в этом смысле прокололись', '\"Тот персонаж, о котором вы упомянули [Навальный]..., это тот человек, кого они[американская администрация] хотели бы продвинуть в политическую сферу России и видеть в руководстве страны\", заметил Путин, подчеркнув, что США \"в этом смысле прокололись', '\"Хотелось бы знать, Владимир Владимирович, сколько еще на своем посту пробудет губернатор Дарькин, который весь этот беспредел контролирует от начала и до конца и, мягко говоря, набивает карманы?\" В ответ Путин пообещал учитывать сказанное \"в будущей работе', '\"Хотелось бы знать, Владимир Владимирович, сколько еще на своем посту пробудет губернатор Дарькин, который весь этот беспредел контролирует от начала и до конца и, мягко говоря, набивает карманы?\" В ответ Путин пообещал учитывать сказанное \"в будущей работе', '\"Хотелось бы знать, Владимир Владимирович, сколько еще на своем посту пробудет губернатор Дарькин, который весь этот беспредел контролирует от начала и до конца и, мягко говоря, набивает карманы?\" В ответ Путин пообещал учитывать сказанное \"в будущей работе', 'FEMEN обращает внимание на внедрение в Украине старых добрых тоталитарных методов контролируемой демократии. Один из ее инструментов - это, так называемые, цензурированные прямые эфиры с лидером нации. Достаточно вспомнить аналогичные эфиры с Путиным и Уго Чавесом. Женское движение FEMEN уверенны, что ни предварительная цензура вопроса, ни подсказки суфлера не сделают Януковича умнее, чем он есть', 'FEMEN обращает внимание на внедрение в Украине старых добрых тоталитарных методов контролируемой демократии. Один из ее инструментов - это, так называемые, цензурированные прямые эфиры с лидером нации. Достаточно вспомнить аналогичные эфиры с Путиным и Уго Чавесом. Женское движение FEMEN уверенны, что ни предварительная цензура вопроса, ни подсказки суфлера не сделают Януковича умнее, чем он есть', 'FEMEN обращает внимание на внедрение в Украине старых добрых тоталитарных методов контролируемой демократии. Один из ее инструментов - это, так называемые, цензурированные прямые эфиры с лидером нации. Достаточно вспомнить аналогичные эфиры с Путиным и Уго Чавесом. Женское движение FEMEN уверенны, что ни предварительная цензура вопроса, ни подсказки суфлера не сделают Януковича умнее, чем он есть']\n",
            "tf.Tensor(\n",
            "[[0.4865922 ]\n",
            " [0.48673713]\n",
            " [0.50663793]\n",
            " [0.5062133 ]\n",
            " [0.5059511 ]\n",
            " [0.50573164]\n",
            " [0.5059331 ]\n",
            " [0.4991682 ]\n",
            " [0.49935198]\n",
            " [0.49926984]], shape=(10, 1), dtype=float32)\n"
          ]
        }
      ]
    },
    {
      "cell_type": "code",
      "metadata": {
        "colab": {
          "base_uri": "https://localhost:8080/",
          "height": 466
        },
        "id": "b_3ZkpxV86em",
        "outputId": "7c69cb60-8ea8-454d-997f-5755ddb3379a"
      },
      "source": [
        "tf.keras.utils.plot_model(labse_model)"
      ],
      "execution_count": null,
      "outputs": [
        {
          "output_type": "execute_result",
          "data": {
            "image/png": "[encoded data removed]",
            "text/plain": [
              "<IPython.core.display.Image object>"
            ]
          },
          "metadata": {},
          "execution_count": 23
        }
      ]
    },
    {
      "cell_type": "markdown",
      "metadata": {
        "id": "wGqMdQW39qdP"
      },
      "source": [
        "## Тренировка модели"
      ]
    },
    {
      "cell_type": "code",
      "metadata": {
        "id": "bH21kVTpF_1l"
      },
      "source": [
        "# Создание датасета\n",
        "def df_to_dataset(dataframe, shuffle=True, batch_size=8):\n",
        "  dataframe = dataframe.copy()\n",
        "  labels = dataframe.pop('label')\n",
        "  prepocessed_inputs = create_input(dataframe['text'].to_list(), dataframe['entity_span_start'].to_list(), \n",
        "                                    dataframe['entity_span_end'].to_list(), tokenizer, 128)  \n",
        "  ds = tf.data.Dataset.from_tensor_slices((prepocessed_inputs, labels))\n",
        "  if shuffle:\n",
        "    ds = ds.shuffle(buffer_size=len(dataframe))\n",
        "  ds = ds.batch(batch_size)\n",
        "  ds = ds.prefetch(batch_size)\n",
        "  return ds"
      ],
      "execution_count": null,
      "outputs": []
    },
    {
      "cell_type": "code",
      "metadata": {
        "id": "iZDkAnd9GZ4z"
      },
      "source": [
        "AUTOTUNE = tf.data.AUTOTUNE\n",
        "batch_size = 4\n",
        "seed = 42\n",
        "\n",
        "raw_train_ds = df_to_dataset(train, batch_size=batch_size)\n",
        "raw_val_ds = df_to_dataset(val, batch_size=batch_size)\n",
        "raw_test_ds = df_to_dataset(test, batch_size=batch_size)\n",
        "\n",
        "train_ds = raw_train_ds.cache().prefetch(buffer_size=AUTOTUNE)\n",
        "val_ds = raw_val_ds.cache().prefetch(buffer_size=AUTOTUNE)\n",
        "test_ds = raw_test_ds.cache().prefetch(buffer_size=AUTOTUNE)"
      ],
      "execution_count": null,
      "outputs": []
    },
    {
      "cell_type": "code",
      "metadata": {
        "id": "i9CnoKxA_HpZ"
      },
      "source": [
        "labse_model.compile(loss = 'categorical_crossentropy', optimizer = 'adam', metrics = ['accuracy'])"
      ],
      "execution_count": null,
      "outputs": []
    },
    {
      "cell_type": "code",
      "metadata": {
        "colab": {
          "base_uri": "https://localhost:8080/"
        },
        "id": "7l58YQUK_WQ2",
        "outputId": "dc15ad2e-5ed2-4fa8-9580-4ad1f60e1805"
      },
      "source": [
        "print(f'Training model')\n",
        "history = labse_model.fit(x=train_ds, validation_data=val_ds, epochs=5)"
      ],
      "execution_count": null,
      "outputs": [
        {
          "output_type": "stream",
          "name": "stdout",
          "text": [
            "Training model\n",
            "Epoch 1/5\n"
          ]
        }
      ]
    }
  ]
}